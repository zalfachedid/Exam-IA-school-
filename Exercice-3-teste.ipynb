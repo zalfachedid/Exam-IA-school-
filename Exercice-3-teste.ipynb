{
 "cells": [
  {
   "cell_type": "markdown",
   "id": "fde5fa31",
   "metadata": {},
   "source": [
    "# Exam"
   ]
  },
  {
   "cell_type": "markdown",
   "id": "cf42370e",
   "metadata": {},
   "source": [
    "## Exercice 3"
   ]
  },
  {
   "cell_type": "code",
   "execution_count": 6,
   "id": "836e4893",
   "metadata": {},
   "outputs": [],
   "source": [
    "import numpy as np"
   ]
  },
  {
   "cell_type": "code",
   "execution_count": 4,
   "id": "7f2efa75",
   "metadata": {},
   "outputs": [],
   "source": [
    "import math as mt"
   ]
  },
  {
   "cell_type": "code",
   "execution_count": 13,
   "id": "2869aab0",
   "metadata": {},
   "outputs": [],
   "source": [
    "def pricer (s,x,t,r,y,N) :\n",
    "    d1=(mt.log10(s/x)+(r+ (y**2)/2)*t)/(y*mt.sqrt(t))\n",
    "    d2=(mt.log10(s/x)+(r- (y**2)/2)*t)/(y*mt.sqrt(t))\n",
    "    c=s*N[d1]-x*mt.exp(-r*t)* N[d2]\n",
    "    p=x*mt.exp(-r*t)*N[-d2]-s*N[-d1]\n",
    "    return p,c"
   ]
  },
  {
   "cell_type": "code",
   "execution_count": null,
   "id": "4885fab5",
   "metadata": {},
   "outputs": [],
   "source": []
  },
  {
   "cell_type": "code",
   "execution_count": null,
   "id": "fce71154",
   "metadata": {},
   "outputs": [],
   "source": []
  },
  {
   "cell_type": "code",
   "execution_count": null,
   "id": "99d5144e",
   "metadata": {},
   "outputs": [],
   "source": []
  },
  {
   "cell_type": "code",
   "execution_count": null,
   "id": "e5e45157",
   "metadata": {},
   "outputs": [],
   "source": []
  }
 ],
 "metadata": {
  "kernelspec": {
   "display_name": "Python 3",
   "language": "python",
   "name": "python3"
  },
  "language_info": {
   "codemirror_mode": {
    "name": "ipython",
    "version": 3
   },
   "file_extension": ".py",
   "mimetype": "text/x-python",
   "name": "python",
   "nbconvert_exporter": "python",
   "pygments_lexer": "ipython3",
   "version": "3.8.8"
  }
 },
 "nbformat": 4,
 "nbformat_minor": 5
}
